{
 "cells": [
  {
   "cell_type": "markdown",
   "metadata": {},
   "source": [
    "Task 1 (Create a Github Repository)\n",
    "\n",
    "1. My first step after setting up my github account was to create a new reposiitory. This included naming the repository, giving a description about the repository, choosing if you want your work to be publicly accessible or not.\n",
    "2. After creating the new repository there was the new to generate an SSH key sos as to clone the repository. What i understand by cloning is being able to sync whatever you do on your machine to the github repository.\n",
    "3. Generating an SSH key was the major challenge i had, but followin the video made it easier."
   ]
  },
  {
   "cell_type": "markdown",
   "metadata": {},
   "source": [
    "Task 2 (Create a folder inside the repository)\n",
    "\n",
    "1. Created a folder in the repository by  clicking on the add file icon, selecting 'create new file'\n",
    "and then naming the folder 'first assignment'.\n",
    "2. The only mistake made was deleting the folder."
   ]
  },
  {
   "cell_type": "markdown",
   "metadata": {},
   "source": [
    "Task 3 (Push an empty  notebook to the repository)\n",
    "\n",
    "1."
   ]
  }
 ],
 "metadata": {
  "kernelspec": {
   "display_name": "Python 3",
   "language": "python",
   "name": "python3"
  },
  "language_info": {
   "codemirror_mode": {
    "name": "ipython",
    "version": 3
   },
   "file_extension": ".py",
   "mimetype": "text/x-python",
   "name": "python",
   "nbconvert_exporter": "python",
   "pygments_lexer": "ipython3",
   "version": "3.8.5"
  }
 },
 "nbformat": 4,
 "nbformat_minor": 4
}
